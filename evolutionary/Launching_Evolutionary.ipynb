{
 "cells": [
  {
   "cell_type": "code",
   "execution_count": 1,
   "metadata": {},
   "outputs": [],
   "source": [
    "import os, sys\n",
    "sys.path.insert(0, os.path.abspath(os.path.join(os.getcwd(), '../..')))"
   ]
  },
  {
   "cell_type": "code",
   "execution_count": 2,
   "metadata": {},
   "outputs": [],
   "source": [
    "from game.GOLAI.GOLEngine import GOLEngine\n",
    "import game.GOLAI.gameView as gw"
   ]
  },
  {
   "cell_type": "code",
   "execution_count": 3,
   "metadata": {},
   "outputs": [],
   "source": [
    "import numpy as np\n",
    "import random\n",
    "from benchmarks.evolutionary.evolutionary_benchmark import EvolutionaryBenchmark"
   ]
  },
  {
   "cell_type": "markdown",
   "metadata": {},
   "source": [
    "Create Evolutionary benchmark and run cycles"
   ]
  },
  {
   "cell_type": "code",
   "execution_count": 4,
   "metadata": {},
   "outputs": [],
   "source": [
    "evol = EvolutionaryBenchmark(24, 0.3)"
   ]
  },
  {
   "cell_type": "code",
   "execution_count": 5,
   "metadata": {},
   "outputs": [
    {
     "name": "stdout",
     "output_type": "stream",
     "text": [
      "Starting evolutionary benchmark for 3 cycles with 1000 steps per round\n",
      "Cycle 0\n",
      "[ 448.  485.  598.  228.  315.  648.  332.  433.  849.  455.  316.  399.\n",
      " 1060.  298.  570.  266.  452.  538.  708.  427.  308.  511.  185.  795.]\n",
      "1060.0\n",
      "Cycle 1\n",
      "[742. 504. 435. 365. 208. 475. 273. 359. 435. 376. 490. 357. 500. 363.\n",
      " 719. 365. 357. 711. 743. 435. 365. 742. 435. 490.]\n",
      "743.0\n",
      "Cycle 2\n",
      "[268. 341. 479. 443. 308. 338. 443. 731. 479. 416. 308. 341. 416. 341.\n",
      " 268. 416. 341. 477. 416. 341. 416. 731. 428. 341.]\n",
      "731.0\n"
     ]
    }
   ],
   "source": [
    "evol.do_n_cycles(3, num_steps=1000, save=1)"
   ]
  },
  {
   "cell_type": "code",
   "execution_count": null,
   "metadata": {},
   "outputs": [],
   "source": [
    "evol.fitness_history"
   ]
  },
  {
   "cell_type": "markdown",
   "metadata": {},
   "source": [
    "Display games with GUI"
   ]
  },
  {
   "cell_type": "code",
   "execution_count": null,
   "metadata": {},
   "outputs": [],
   "source": [
    "# display all games\n",
    "for game in evol.games:\n",
    "    process = gw.start(game)"
   ]
  },
  {
   "cell_type": "code",
   "execution_count": null,
   "metadata": {},
   "outputs": [],
   "source": [
    "# display one game\n",
    "gw.start(evol.games[0])"
   ]
  },
  {
   "cell_type": "markdown",
   "metadata": {},
   "source": [
    "Save results"
   ]
  }
 ],
 "metadata": {
  "kernelspec": {
   "display_name": "Python 3",
   "language": "python",
   "name": "python3"
  },
  "language_info": {
   "codemirror_mode": {
    "name": "ipython",
    "version": 3
   },
   "file_extension": ".py",
   "mimetype": "text/x-python",
   "name": "python",
   "nbconvert_exporter": "python",
   "pygments_lexer": "ipython3",
   "version": "3.6.5"
  }
 },
 "nbformat": 4,
 "nbformat_minor": 2
}
